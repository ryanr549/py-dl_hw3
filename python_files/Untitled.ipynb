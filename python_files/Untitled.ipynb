{
 "cells": [
  {
   "cell_type": "code",
   "execution_count": null,
   "id": "1306d784-29fa-48ab-bc0c-0b6707bdeecc",
   "metadata": {},
   "outputs": [],
   "source": [
    "!python no_domain_adaptation.py --gpu_id 0 \\\n",
    "--net DeepMerge \\\n",
    "--dset 'galaxy' \\\n",
    "--dset_path 'data'\\"
   ]
  }
 ],
 "metadata": {
  "kernelspec": {
   "display_name": "Python 3 (ipykernel)",
   "language": "python",
   "name": "python3"
  },
  "language_info": {
   "codemirror_mode": {
    "name": "ipython",
    "version": 3
   },
   "file_extension": ".py",
   "mimetype": "text/x-python",
   "name": "python",
   "nbconvert_exporter": "python",
   "pygments_lexer": "ipython3",
   "version": "3.9.7"
  }
 },
 "nbformat": 4,
 "nbformat_minor": 5
}
